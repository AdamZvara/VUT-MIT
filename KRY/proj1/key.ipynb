{
 "cells": [
  {
   "cell_type": "code",
   "execution_count": 30,
   "metadata": {},
   "outputs": [
    {
     "name": "stdout",
     "output_type": "stream",
     "text": [
      "First transposition with key ['d', 'c', 'b', 'a', 'q', 'r', 't', 'a']\n",
      "  d    c    b    a    q    r    t    a\n",
      "['o', 'p', 'e', 'r', 'a', 'c', 'e', '-']\n",
      "['v', 'e', '-', 'f', 'a', 'z', 'i', '-']\n",
      "['p', 'l', 'n', 'e', '-', 'a', 'k', 'c']\n",
      "['e', '-', 'v', 'y', 'z', 'v', 'a', '-']\n",
      "['k', '-', 'o', 'd', 'p', 'o', 'r', 'u']\n",
      "['-', 'p', 'ř', 'i', 'p', 'r', 'a', 'v']\n",
      "['u', 'j', 'e', 'm', 'e', '-', 'k', 'l']\n",
      "['i', 'č', 'o', 'v']\n",
      "\n",
      "Order of the key1: [6, 5, 4, 0, 1, 2, 3, 7]\n"
     ]
    }
   ],
   "source": [
    "# Trying to get the key from the ciphertext and opentext\n",
    "\n",
    "opentext = \"operace-ve-fazi-plne-akce-vyzva-k-odporu-připravujeme-kličov\"\n",
    "ciphertext = \"-pod-črneuakoiiplvuyeepapieaao-cořkrr-zlcva-jv-ek-vemzve-f-p\"\n",
    "\n",
    "def TT(ctext, key1, key2):\n",
    "    # Realize double transposition cipher using the key1 and key2\n",
    "    ctext = list(ctext)\n",
    "    key1 = list(key1)\n",
    "    key2 = list(key2)\n",
    "    l1 = len(key1)\n",
    "    l2 = len(key2)\n",
    "    \n",
    "    ctext = [ctext[i:i+l1] for i in range(0, len(ctext), l1)]\n",
    "    print(\"First transposition with key {}\".format(key1))\n",
    "    print(2*' ', end=\"\")\n",
    "    print(\"    \".join(key1))\n",
    "    for i in ctext:\n",
    "        print(i)\n",
    "        \n",
    "    # Get the order of the key1\n",
    "    print()\n",
    "    order = sorted(range(len(key1)), key=lambda k: key1[k], reverse=True)\n",
    "    print(\"Order of the key1: {}\".format(order))\n",
    "    \n",
    "    \n",
    "    \n",
    "TT(opentext, \"dcbaqrta\", \"abcdefgh\")"
   ]
  }
 ],
 "metadata": {
  "kernelspec": {
   "display_name": "Python 3",
   "language": "python",
   "name": "python3"
  },
  "language_info": {
   "codemirror_mode": {
    "name": "ipython",
    "version": 3
   },
   "file_extension": ".py",
   "mimetype": "text/x-python",
   "name": "python",
   "nbconvert_exporter": "python",
   "pygments_lexer": "ipython3",
   "version": "3.11.5"
  }
 },
 "nbformat": 4,
 "nbformat_minor": 2
}
