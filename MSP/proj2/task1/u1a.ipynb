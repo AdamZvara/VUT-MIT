{
 "cells": [
  {
   "cell_type": "code",
   "execution_count": 44,
   "metadata": {},
   "outputs": [],
   "source": [
    "import numpy as np\n",
    "import pandas as pd\n",
    "from scipy.stats import gamma, nbinom\n",
    "import matplotlib.pyplot as plt"
   ]
  },
  {
   "cell_type": "markdown",
   "metadata": {},
   "source": [
    "## Načítavanie dát z excelu do pandas dataframe"
   ]
  },
  {
   "cell_type": "code",
   "execution_count": 15,
   "metadata": {},
   "outputs": [],
   "source": [
    "df = pd.read_excel('Projekt-2_Data.xlsx', sheet_name='Úloha 1')"
   ]
  },
  {
   "cell_type": "code",
   "execution_count": 155,
   "metadata": {},
   "outputs": [
    {
     "data": {
      "text/html": [
       "<div>\n",
       "<style scoped>\n",
       "    .dataframe tbody tr th:only-of-type {\n",
       "        vertical-align: middle;\n",
       "    }\n",
       "\n",
       "    .dataframe tbody tr th {\n",
       "        vertical-align: top;\n",
       "    }\n",
       "\n",
       "    .dataframe thead th {\n",
       "        text-align: right;\n",
       "    }\n",
       "</style>\n",
       "<table border=\"1\" class=\"dataframe\">\n",
       "  <thead>\n",
       "    <tr style=\"text-align: right;\">\n",
       "      <th></th>\n",
       "      <th>uloha_1 a)</th>\n",
       "      <th>uloha_1 b)_prior</th>\n",
       "      <th>skupina</th>\n",
       "      <th>uloha_1 b)_pozorování</th>\n",
       "    </tr>\n",
       "  </thead>\n",
       "  <tbody>\n",
       "    <tr>\n",
       "      <th>0</th>\n",
       "      <td>2.0</td>\n",
       "      <td>3.634785</td>\n",
       "      <td>0</td>\n",
       "      <td>3.626656</td>\n",
       "    </tr>\n",
       "    <tr>\n",
       "      <th>1</th>\n",
       "      <td>2.0</td>\n",
       "      <td>2.868113</td>\n",
       "      <td>0</td>\n",
       "      <td>3.008269</td>\n",
       "    </tr>\n",
       "    <tr>\n",
       "      <th>2</th>\n",
       "      <td>1.0</td>\n",
       "      <td>2.149160</td>\n",
       "      <td>0</td>\n",
       "      <td>2.989829</td>\n",
       "    </tr>\n",
       "    <tr>\n",
       "      <th>3</th>\n",
       "      <td>3.0</td>\n",
       "      <td>4.263065</td>\n",
       "      <td>0</td>\n",
       "      <td>2.371630</td>\n",
       "    </tr>\n",
       "    <tr>\n",
       "      <th>4</th>\n",
       "      <td>0.0</td>\n",
       "      <td>2.594745</td>\n",
       "      <td>0</td>\n",
       "      <td>4.009366</td>\n",
       "    </tr>\n",
       "    <tr>\n",
       "      <th>...</th>\n",
       "      <td>...</td>\n",
       "      <td>...</td>\n",
       "      <td>...</td>\n",
       "      <td>...</td>\n",
       "    </tr>\n",
       "    <tr>\n",
       "      <th>99995</th>\n",
       "      <td>NaN</td>\n",
       "      <td>1.725637</td>\n",
       "      <td>9999</td>\n",
       "      <td>NaN</td>\n",
       "    </tr>\n",
       "    <tr>\n",
       "      <th>99996</th>\n",
       "      <td>NaN</td>\n",
       "      <td>4.048414</td>\n",
       "      <td>9999</td>\n",
       "      <td>NaN</td>\n",
       "    </tr>\n",
       "    <tr>\n",
       "      <th>99997</th>\n",
       "      <td>NaN</td>\n",
       "      <td>3.000662</td>\n",
       "      <td>9999</td>\n",
       "      <td>NaN</td>\n",
       "    </tr>\n",
       "    <tr>\n",
       "      <th>99998</th>\n",
       "      <td>NaN</td>\n",
       "      <td>3.058451</td>\n",
       "      <td>9999</td>\n",
       "      <td>NaN</td>\n",
       "    </tr>\n",
       "    <tr>\n",
       "      <th>99999</th>\n",
       "      <td>NaN</td>\n",
       "      <td>4.487418</td>\n",
       "      <td>9999</td>\n",
       "      <td>NaN</td>\n",
       "    </tr>\n",
       "  </tbody>\n",
       "</table>\n",
       "<p>100000 rows × 4 columns</p>\n",
       "</div>"
      ],
      "text/plain": [
       "       uloha_1 a)  uloha_1 b)_prior  skupina  uloha_1 b)_pozorování\n",
       "0             2.0          3.634785        0               3.626656\n",
       "1             2.0          2.868113        0               3.008269\n",
       "2             1.0          2.149160        0               2.989829\n",
       "3             3.0          4.263065        0               2.371630\n",
       "4             0.0          2.594745        0               4.009366\n",
       "...           ...               ...      ...                    ...\n",
       "99995         NaN          1.725637     9999                    NaN\n",
       "99996         NaN          4.048414     9999                    NaN\n",
       "99997         NaN          3.000662     9999                    NaN\n",
       "99998         NaN          3.058451     9999                    NaN\n",
       "99999         NaN          4.487418     9999                    NaN\n",
       "\n",
       "[100000 rows x 4 columns]"
      ]
     },
     "execution_count": 155,
     "metadata": {},
     "output_type": "execute_result"
    }
   ],
   "source": [
    "df"
   ]
  },
  {
   "cell_type": "code",
   "execution_count": 34,
   "metadata": {},
   "outputs": [
    {
     "data": {
      "text/plain": [
       "uloha_1 a)    1.66\n",
       "dtype: float64"
      ]
     },
     "execution_count": 34,
     "metadata": {},
     "output_type": "execute_result"
    }
   ],
   "source": [
    "df1 = df[['uloha_1 a)']].dropna().astype(int)\n",
    "df1.mean()"
   ]
  },
  {
   "cell_type": "code",
   "execution_count": 143,
   "metadata": {},
   "outputs": [
    {
     "data": {
      "image/png": "[encoded data removed]",
      "text/plain": [
       "<Figure size 640x480 with 1 Axes>"
      ]
     },
     "metadata": {},
     "output_type": "display_data"
    }
   ],
   "source": [
    "fig, ax = plt.subplots(1,1)\n",
    "\n",
    "x = np.linspace(0, 4, 100)\n",
    "\n",
    "a = 10\n",
    "b = 5\n",
    "\n",
    "ax.plot(x, gamma.pdf(x, a, scale=1/b), label='apriorna hustota')\n",
    "ax.plot(x, gamma.pdf(x, a + df1.sum(), scale=1/(b + len(df1))), label='aposteriorna hustota')\n",
    "\n",
    "ax.legend()\n",
    "fig.savefig(\"u1a1.png\")"
   ]
  },
  {
   "cell_type": "code",
   "execution_count": 142,
   "metadata": {},
   "outputs": [
    {
     "data": {
      "image/png": "[encoded data removed]",
      "text/plain": [
       "<Figure size 640x480 with 1 Axes>"
      ]
     },
     "metadata": {},
     "output_type": "display_data"
    }
   ],
   "source": [
    "fig, ax = plt.subplots(1, 1)\n",
    "x = np.arange(0, 9)\n",
    "\n",
    "a2 = a + df1.sum()\n",
    "b2 = b + len(df1)\n",
    "\n",
    "nbinom_apost = nbinom(a2, b2 / (1 + b2))\n",
    "nbinom_apri = nbinom(a, b / (1 + b))\n",
    "\n",
    "ax.stem(x, nbinom_apri.pmf(x), basefmt=\" \", label='apriórna prediktívna hustota')\n",
    "ax.stem(x, nbinom_apost.pmf(x), basefmt=\" \", label='aposteriórna prediktívna hustota', markerfmt='gD')\n",
    "ax.xaxis.set_ticks(x)\n",
    "ax.legend()\n",
    "fig.savefig(\"u1a2.png\")"
   ]
  },
  {
   "cell_type": "code",
   "execution_count": 127,
   "metadata": {},
   "outputs": [
    {
     "name": "stdout",
     "output_type": "stream",
     "text": [
      "(array([1.43769383]), array([1.93272075])) (0.9590777392264868, 3.416960690283833)\n"
     ]
    }
   ],
   "source": [
    "apost_int = gamma.ppf(0.025, a2, scale=1/b2), gamma.ppf(0.975, a2, scale=1/b2)\n",
    "apri_int = gamma.ppf(0.025, a, scale=1/b), gamma.ppf(0.975, a, scale=1/b)\n",
    "print(apost_int, apri_int)"
   ]
  },
  {
   "cell_type": "code",
   "execution_count": 151,
   "metadata": {},
   "outputs": [
    {
     "name": "stdout",
     "output_type": "stream",
     "text": [
      "mean: [1.67619048] median: [1.67301694]\n"
     ]
    }
   ],
   "source": [
    "# gamma_aprior = gamma.pdf(x, a, scale=1/b)\n",
    "gamma_aposterior = gamma(a + df1.sum(), scale=1/(b + len(df1)))\n",
    "aposterior_mean = gamma_aposterior.mean()\n",
    "aposterior_median = gamma_aposterior.median()\n",
    "\n",
    "print(\"mean:\", aposterior_mean, \"median:\", aposterior_median)"
   ]
  },
  {
   "cell_type": "code",
   "execution_count": 154,
   "metadata": {},
   "outputs": [
    {
     "name": "stdout",
     "output_type": "stream",
     "text": [
      "apost mean: [1.67619048] apri mean: 1.9999999999999996\n"
     ]
    }
   ],
   "source": [
    "apost_predict_mean = nbinom_apost.mean()\n",
    "apri_predict_mean = nbinom_apri.mean()\n",
    "\n",
    "print(\"apost mean:\", apost_predict_mean, \"apri mean:\", apri_predict_mean)"
   ]
  }
 ],
 "metadata": {
  "kernelspec": {
   "display_name": "MSPvenv",
   "language": "python",
   "name": "python3"
  },
  "language_info": {
   "codemirror_mode": {
    "name": "ipython",
    "version": 3
   },
   "file_extension": ".py",
   "mimetype": "text/x-python",
   "name": "python",
   "nbconvert_exporter": "python",
   "pygments_lexer": "ipython3",
   "version": "3.11.5"
  }
 },
 "nbformat": 4,
 "nbformat_minor": 2
}
